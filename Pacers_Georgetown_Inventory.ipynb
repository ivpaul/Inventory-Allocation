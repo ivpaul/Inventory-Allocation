{
  "nbformat": 4,
  "nbformat_minor": 0,
  "metadata": {
    "colab": {
      "provenance": [],
      "authorship_tag": "ABX9TyMh+1+8MiBibzLXGFrqPCX3",
      "include_colab_link": true
    },
    "kernelspec": {
      "name": "python3",
      "display_name": "Python 3"
    },
    "language_info": {
      "name": "python"
    }
  },
  "cells": [
    {
      "cell_type": "markdown",
      "metadata": {
        "id": "view-in-github",
        "colab_type": "text"
      },
      "source": [
        "<a href=\"https://colab.research.google.com/github/ivpaul/Inventory-Allocation/blob/main/Pacers_Georgetown_Inventory.ipynb\" target=\"_parent\"><img src=\"https://colab.research.google.com/assets/colab-badge.svg\" alt=\"Open In Colab\"/></a>"
      ]
    },
    {
      "cell_type": "code",
      "execution_count": 1,
      "metadata": {
        "colab": {
          "base_uri": "https://localhost:8080/"
        },
        "id": "tlCXjb9O_FXN",
        "outputId": "71384d7f-ce36-4d09-813b-aee4d83e76e9"
      },
      "outputs": [
        {
          "output_type": "stream",
          "name": "stdout",
          "text": [
            "Requirement already satisfied: pandas in /usr/local/lib/python3.10/dist-packages (1.5.3)\n",
            "Requirement already satisfied: python-dateutil>=2.8.1 in /usr/local/lib/python3.10/dist-packages (from pandas) (2.8.2)\n",
            "Requirement already satisfied: pytz>=2020.1 in /usr/local/lib/python3.10/dist-packages (from pandas) (2023.4)\n",
            "Requirement already satisfied: numpy>=1.21.0 in /usr/local/lib/python3.10/dist-packages (from pandas) (1.25.2)\n",
            "Requirement already satisfied: six>=1.5 in /usr/local/lib/python3.10/dist-packages (from python-dateutil>=2.8.1->pandas) (1.16.0)\n"
          ]
        }
      ],
      "source": [
        "!pip install pandas"
      ]
    },
    {
      "cell_type": "code",
      "source": [
        "import pandas as pd\n",
        "import re\n",
        "\n",
        "def is_shoe(size):\n",
        "    if pd.isna(size):\n",
        "        return False  # Return 0 for NaN values\n",
        "\n",
        "    try:\n",
        "        # Attempt to convert the size to a float, which covers integers and floats\n",
        "        float(size)\n",
        "        return True  # Numeric values are considered shoes\n",
        "    except ValueError:\n",
        "        # Updated regular expression to match 'M8/W9', '8/W9', and 'M8W9'\n",
        "        if re.match(r'(M?\\d+(\\.\\d+)?/W\\d+(\\.\\d+)?)|(M?\\d+(\\.\\d+)?W\\d+(\\.\\d+)?)', size.upper()):\n",
        "            return True  # The updated patterns are considered shoes\n",
        "\n",
        "    return False  # All other values are not considered shoes\n",
        "\n",
        "def identify_category(title):\n",
        "    if \"Women's\" in title:\n",
        "        return \"Women's\"\n",
        "    elif \"Men's\" in title:\n",
        "        return \"Men's\"\n",
        "    elif \"Unisex\" in title:\n",
        "        return \"Unisex\"\n",
        "    else:\n",
        "        return \"Unknown\"\n",
        "\n",
        "# Define the function to categorize shoes by type\n",
        "def is_stable(title):\n",
        "    stability_keywords = [\n",
        "        'kayano', 'cloudflyer', 'gaviota', 'arahi', 'gt-2000', 'paradigm',\n",
        "        'cloudrunner', 'adrenaline gts', 'glycerin gts', 'guide', '860v13', '860v14', 'vongo', 'inspire'\n",
        "    ]\n",
        "    return any(keyword.lower() in title.lower() for keyword in stability_keywords)\n",
        "\n",
        "def is_trail(title):\n",
        "    trail_keywords = [\n",
        "        'trail more', 'hierro', 'cloudvista', 'cloudultra', 'peregrine', 'timp', 'superior'\n",
        "    ]\n",
        "    return any(keyword.lower() in title.lower() for keyword in trail_keywords)"
      ],
      "metadata": {
        "id": "DcabspfNA1S8"
      },
      "execution_count": 2,
      "outputs": []
    },
    {
      "cell_type": "code",
      "source": [
        "\n",
        "# Load the CSV file into a pandas DataFrame\n",
        "Inventory_df = pd.read_csv('/inventory_export_1 2.csv')\n",
        "\n",
        "Georgetown_Inventory_df = Inventory_df[['Title', 'Option1 Value', 'Option3 Value', 'Pacers Georgetown']]\n",
        "\n",
        "# Add a new column indicating if the item is a shoe\n",
        "# 'Option1 Value' should consist of integer values\n",
        "Georgetown_Inventory_df['Is_Shoe'] = Georgetown_Inventory_df['Option1 Value'].apply(is_shoe)\n",
        "\n"
      ],
      "metadata": {
        "id": "5jIh6QuJ9Ce9",
        "colab": {
          "base_uri": "https://localhost:8080/"
        },
        "outputId": "e8644083-b411-46aa-d368-57e3aba18884"
      },
      "execution_count": 3,
      "outputs": [
        {
          "output_type": "stream",
          "name": "stderr",
          "text": [
            "<ipython-input-3-40591cf1c173>:2: DtypeWarning: Columns (10,14,16,17,18,19,20,21) have mixed types. Specify dtype option on import or set low_memory=False.\n",
            "  Inventory_df = pd.read_csv('/inventory_export_1 2.csv')\n",
            "<ipython-input-3-40591cf1c173>:8: SettingWithCopyWarning: \n",
            "A value is trying to be set on a copy of a slice from a DataFrame.\n",
            "Try using .loc[row_indexer,col_indexer] = value instead\n",
            "\n",
            "See the caveats in the documentation: https://pandas.pydata.org/pandas-docs/stable/user_guide/indexing.html#returning-a-view-versus-a-copy\n",
            "  Georgetown_Inventory_df['Is_Shoe'] = Georgetown_Inventory_df['Option1 Value'].apply(is_shoe)\n"
          ]
        }
      ]
    },
    {
      "cell_type": "code",
      "source": [
        "#Check for Hoka Transport X\n",
        "\n",
        "# Example: Looking up a title \"Women's ASICS GEL-Kayano 30 Lite-Show\"\n",
        "specific_title = \"Unisex HOKA ONE ONE Transport X\"\n",
        "\n",
        "# Use .loc[] with a condition to find rows where the 'Title' column matches `specific_title`\n",
        "specific_row = Georgetown_Inventory_df.loc[Georgetown_Inventory_df['Title'] == specific_title]\n",
        "\n",
        "# Display the found rows\n",
        "print(specific_row.head(5))"
      ],
      "metadata": {
        "id": "ese5FaT-vU9Y",
        "outputId": "34f7dbde-8be3-4e2c-9293-660b0ebbeca9",
        "colab": {
          "base_uri": "https://localhost:8080/"
        }
      },
      "execution_count": 4,
      "outputs": [
        {
          "output_type": "stream",
          "name": "stdout",
          "text": [
            "                                 Title Option1 Value Option3 Value  \\\n",
            "8477   Unisex HOKA ONE ONE Transport X       M13/W14           NaN   \n",
            "10600  Unisex HOKA ONE ONE Transport X         M8/W9           NaN   \n",
            "10601  Unisex HOKA ONE ONE Transport X    M9.5/W10.5           NaN   \n",
            "10602  Unisex HOKA ONE ONE Transport X        M9/W10           NaN   \n",
            "10603  Unisex HOKA ONE ONE Transport X   M10.5/W11.5           NaN   \n",
            "\n",
            "      Pacers Georgetown  Is_Shoe  \n",
            "8477                  0     True  \n",
            "10600       not stocked     True  \n",
            "10601       not stocked     True  \n",
            "10602       not stocked     True  \n",
            "10603       not stocked     True  \n"
          ]
        }
      ]
    },
    {
      "cell_type": "code",
      "source": [
        "# Filter the DataFrame for rows where 'Is_Shoe' is True\n",
        "Georgetown_shoes_df = Georgetown_Inventory_df[Georgetown_Inventory_df['Is_Shoe'] == True]\n",
        "print(Georgetown_shoes_df)"
      ],
      "metadata": {
        "id": "Mese974yBcfY",
        "colab": {
          "base_uri": "https://localhost:8080/"
        },
        "outputId": "48504210-031c-407d-88cb-9e23903c46d1"
      },
      "execution_count": 5,
      "outputs": [
        {
          "output_type": "stream",
          "name": "stdout",
          "text": [
            "                                    Title Option1 Value Option3 Value  \\\n",
            "0           Men's Saucony Endorphin Pro 4            10             D   \n",
            "1       Women's Saucony Endorphin Speed 4           9.5             B   \n",
            "2         Men's Saucony Endorphin Speed 4          10.5             D   \n",
            "3           Men's Saucony Endorphin Pro 4          10.5             D   \n",
            "4       Women's Saucony Endorphin Speed 4            10             B   \n",
            "...                                   ...           ...           ...   \n",
            "102395         Men's Adidas Ultraboost 21            12             D   \n",
            "102396         Men's Adidas Ultraboost 21          12.5             D   \n",
            "102397         Men's Adidas Ultraboost 21          12.5             D   \n",
            "102398         Men's Adidas Ultraboost 21          12.5             D   \n",
            "102399         Men's Adidas Ultraboost 21            13             D   \n",
            "\n",
            "       Pacers Georgetown  Is_Shoe  \n",
            "0            not stocked     True  \n",
            "1            not stocked     True  \n",
            "2            not stocked     True  \n",
            "3            not stocked     True  \n",
            "4            not stocked     True  \n",
            "...                  ...      ...  \n",
            "102395                 0     True  \n",
            "102396                 0     True  \n",
            "102397                 0     True  \n",
            "102398                 0     True  \n",
            "102399                 0     True  \n",
            "\n",
            "[87569 rows x 5 columns]\n"
          ]
        }
      ]
    },
    {
      "cell_type": "code",
      "source": [
        "# Replace 'not stocked' with 0\n",
        "Georgetown_shoes_df['Pacers Georgetown'] = Georgetown_shoes_df['Pacers Georgetown'].replace('not stocked', 0)\n",
        "\n",
        "# Convert 'Pacers Georgetown' to numeric in case there are other non-numeric values\n",
        "Georgetown_shoes_df['Pacers Georgetown'] = pd.to_numeric(Georgetown_shoes_df['Pacers Georgetown'], errors='coerce')\n",
        "\n",
        "# Filter the DataFrame to include only rows with 'Pacers Georgetown' > 0\n",
        "Georgetown_shoes_clean_df = Georgetown_shoes_df[Georgetown_shoes_df['Pacers Georgetown'] > 0]\n",
        "\n",
        "# Display the filtered DataFrame\n",
        "print(Georgetown_shoes_clean_df)\n"
      ],
      "metadata": {
        "colab": {
          "base_uri": "https://localhost:8080/"
        },
        "id": "WJmzCBqRB_Or",
        "outputId": "e5ded112-8ffa-4cf1-cd07-e69eb2615155"
      },
      "execution_count": 6,
      "outputs": [
        {
          "output_type": "stream",
          "name": "stdout",
          "text": [
            "                                     Title Option1 Value Option3 Value  \\\n",
            "302                 Men's ASICS GT-2000 12            11             D   \n",
            "968                 Men's ASICS GT-2000 12             8             D   \n",
            "980                 Men's ASICS GT-2000 12            10             D   \n",
            "1152     Women's Mizuno Wave Rider 27 Roxy            10             B   \n",
            "1216     Women's Mizuno Wave Rider 27 Roxy           7.5             B   \n",
            "...                                    ...           ...           ...   \n",
            "55129                Men's On Cloudmonster          12.5             D   \n",
            "55287                   Women's On Cloud 5           8.5             B   \n",
            "59665                 Women's Altra Timp 4           8.5             B   \n",
            "70997  Unisex OOFOS OOahh Sport Flex Slide        M11W13           NaN   \n",
            "73106   Men's OOFOS Ooahh Sport Flex Slide             9             D   \n",
            "\n",
            "       Pacers Georgetown  Is_Shoe  \n",
            "302                    1     True  \n",
            "968                    1     True  \n",
            "980                    1     True  \n",
            "1152                   1     True  \n",
            "1216                   1     True  \n",
            "...                  ...      ...  \n",
            "55129                  1     True  \n",
            "55287                  1     True  \n",
            "59665                  1     True  \n",
            "70997                  1     True  \n",
            "73106                  1     True  \n",
            "\n",
            "[1456 rows x 5 columns]\n"
          ]
        },
        {
          "output_type": "stream",
          "name": "stderr",
          "text": [
            "<ipython-input-6-b611fa6f6227>:2: SettingWithCopyWarning: \n",
            "A value is trying to be set on a copy of a slice from a DataFrame.\n",
            "Try using .loc[row_indexer,col_indexer] = value instead\n",
            "\n",
            "See the caveats in the documentation: https://pandas.pydata.org/pandas-docs/stable/user_guide/indexing.html#returning-a-view-versus-a-copy\n",
            "  Georgetown_shoes_df['Pacers Georgetown'] = Georgetown_shoes_df['Pacers Georgetown'].replace('not stocked', 0)\n",
            "<ipython-input-6-b611fa6f6227>:5: SettingWithCopyWarning: \n",
            "A value is trying to be set on a copy of a slice from a DataFrame.\n",
            "Try using .loc[row_indexer,col_indexer] = value instead\n",
            "\n",
            "See the caveats in the documentation: https://pandas.pydata.org/pandas-docs/stable/user_guide/indexing.html#returning-a-view-versus-a-copy\n",
            "  Georgetown_shoes_df['Pacers Georgetown'] = pd.to_numeric(Georgetown_shoes_df['Pacers Georgetown'], errors='coerce')\n"
          ]
        }
      ]
    },
    {
      "cell_type": "code",
      "source": [
        "print(Georgetown_shoes_clean_df.info())"
      ],
      "metadata": {
        "colab": {
          "base_uri": "https://localhost:8080/"
        },
        "id": "xUyw86cm5__o",
        "outputId": "3243fc3a-3e25-4d21-8a56-560ad5fb353a"
      },
      "execution_count": 7,
      "outputs": [
        {
          "output_type": "stream",
          "name": "stdout",
          "text": [
            "<class 'pandas.core.frame.DataFrame'>\n",
            "Int64Index: 1456 entries, 302 to 73106\n",
            "Data columns (total 5 columns):\n",
            " #   Column             Non-Null Count  Dtype \n",
            "---  ------             --------------  ----- \n",
            " 0   Title              1456 non-null   object\n",
            " 1   Option1 Value      1456 non-null   object\n",
            " 2   Option3 Value      1443 non-null   object\n",
            " 3   Pacers Georgetown  1456 non-null   int64 \n",
            " 4   Is_Shoe            1456 non-null   bool  \n",
            "dtypes: bool(1), int64(1), object(3)\n",
            "memory usage: 58.3+ KB\n",
            "None\n"
          ]
        }
      ]
    },
    {
      "cell_type": "code",
      "source": [
        "Georgetown_shoes_clean_df = Georgetown_shoes_clean_df.drop(['Pacers Georgetown', 'Is_Shoe'], axis=1)\n",
        "Georgetown_shoes_clean_df = Georgetown_shoes_clean_df.rename(columns={'Title': 'Model'})\n",
        "Georgetown_shoes_clean_df = Georgetown_shoes_clean_df.rename(columns={'Option1 Value': 'Size'})\n",
        "Georgetown_shoes_clean_df = Georgetown_shoes_clean_df.rename(columns={'Option3 Value': 'Width'})\n",
        "\n",
        "print(Georgetown_shoes_clean_df.head(5))\n"
      ],
      "metadata": {
        "colab": {
          "base_uri": "https://localhost:8080/"
        },
        "id": "a5I3T0__Bcp0",
        "outputId": "a56fca15-5551-4beb-8d90-6e6db18d84de"
      },
      "execution_count": 8,
      "outputs": [
        {
          "output_type": "stream",
          "name": "stdout",
          "text": [
            "                                  Model Size Width\n",
            "302              Men's ASICS GT-2000 12   11     D\n",
            "968              Men's ASICS GT-2000 12    8     D\n",
            "980              Men's ASICS GT-2000 12   10     D\n",
            "1152  Women's Mizuno Wave Rider 27 Roxy   10     B\n",
            "1216  Women's Mizuno Wave Rider 27 Roxy  7.5     B\n"
          ]
        }
      ]
    },
    {
      "cell_type": "code",
      "source": [
        "# Create 'Gender' column and call identify_category function based on 'Model' values\n",
        "Georgetown_shoes_clean_df['Gender'] = Georgetown_shoes_clean_df['Model'].apply(identify_category)\n",
        "\n",
        "# Display the updated DataFrame\n",
        "print(Georgetown_shoes_clean_df)\n"
      ],
      "metadata": {
        "colab": {
          "base_uri": "https://localhost:8080/"
        },
        "id": "GtCc8A3F-aQf",
        "outputId": "dcb072eb-ac1e-4de7-a882-246f787073ed"
      },
      "execution_count": 9,
      "outputs": [
        {
          "output_type": "stream",
          "name": "stdout",
          "text": [
            "                                     Model    Size Width   Gender\n",
            "302                 Men's ASICS GT-2000 12      11     D    Men's\n",
            "968                 Men's ASICS GT-2000 12       8     D    Men's\n",
            "980                 Men's ASICS GT-2000 12      10     D    Men's\n",
            "1152     Women's Mizuno Wave Rider 27 Roxy      10     B  Women's\n",
            "1216     Women's Mizuno Wave Rider 27 Roxy     7.5     B  Women's\n",
            "...                                    ...     ...   ...      ...\n",
            "55129                Men's On Cloudmonster    12.5     D    Men's\n",
            "55287                   Women's On Cloud 5     8.5     B  Women's\n",
            "59665                 Women's Altra Timp 4     8.5     B  Women's\n",
            "70997  Unisex OOFOS OOahh Sport Flex Slide  M11W13   NaN   Unisex\n",
            "73106   Men's OOFOS Ooahh Sport Flex Slide       9     D    Men's\n",
            "\n",
            "[1456 rows x 4 columns]\n"
          ]
        }
      ]
    },
    {
      "cell_type": "code",
      "source": [
        "# Assuming 'Georgetown_shoes_df' is your DataFrame and now includes a 'Gender_Category' column\n",
        "gender_counts = Georgetown_shoes_clean_df['Gender'].value_counts()\n",
        "\n",
        "# Print the breakdown\n",
        "print(\"Breakdown by Gender:\")\n",
        "print(gender_counts)\n",
        "\n",
        "# Total count\n",
        "total_count = gender_counts.sum()\n",
        "print(f\"Total: {total_count}\")\n"
      ],
      "metadata": {
        "colab": {
          "base_uri": "https://localhost:8080/"
        },
        "id": "NqmDZ0JV-oyJ",
        "outputId": "3437e979-a3d4-45ef-e0c4-55ba658881d4"
      },
      "execution_count": 10,
      "outputs": [
        {
          "output_type": "stream",
          "name": "stdout",
          "text": [
            "Breakdown by Gender:\n",
            "Women's    723\n",
            "Men's      721\n",
            "Unisex      12\n",
            "Name: Gender, dtype: int64\n",
            "Total: 1456\n"
          ]
        }
      ]
    },
    {
      "cell_type": "code",
      "source": [
        "# Define the function to categorize shoes by type\n",
        "\n",
        "# Apply the function to create a new column for shoe type use function is_stable\n",
        "Georgetown_shoes_clean_df['Stable'] = Georgetown_shoes_clean_df['Model'].apply(is_stable)\n",
        "\n",
        "# Display the updated DataFrame to verify the new column\n",
        "\n",
        "print(Georgetown_shoes_clean_df)\n",
        "\n",
        "neutral_count = len(Georgetown_shoes_clean_df[Georgetown_shoes_clean_df['Stable'] == False])\n",
        "stable_count = len(Georgetown_shoes_clean_df[Georgetown_shoes_clean_df['Stable'] == True])\n",
        "print(f\"Total Neutral shoes: {neutral_count}\")\n",
        "print(f\"Total Stability shoes: {stable_count}\")"
      ],
      "metadata": {
        "colab": {
          "base_uri": "https://localhost:8080/"
        },
        "id": "Ksbek1laBuxt",
        "outputId": "b0e13a3b-9d6a-404a-bfd4-419d304ea0a1"
      },
      "execution_count": 11,
      "outputs": [
        {
          "output_type": "stream",
          "name": "stdout",
          "text": [
            "                                     Model    Size Width   Gender  Stable\n",
            "302                 Men's ASICS GT-2000 12      11     D    Men's    True\n",
            "968                 Men's ASICS GT-2000 12       8     D    Men's    True\n",
            "980                 Men's ASICS GT-2000 12      10     D    Men's    True\n",
            "1152     Women's Mizuno Wave Rider 27 Roxy      10     B  Women's   False\n",
            "1216     Women's Mizuno Wave Rider 27 Roxy     7.5     B  Women's   False\n",
            "...                                    ...     ...   ...      ...     ...\n",
            "55129                Men's On Cloudmonster    12.5     D    Men's   False\n",
            "55287                   Women's On Cloud 5     8.5     B  Women's   False\n",
            "59665                 Women's Altra Timp 4     8.5     B  Women's   False\n",
            "70997  Unisex OOFOS OOahh Sport Flex Slide  M11W13   NaN   Unisex   False\n",
            "73106   Men's OOFOS Ooahh Sport Flex Slide       9     D    Men's   False\n",
            "\n",
            "[1456 rows x 5 columns]\n",
            "Total Neutral shoes: 1040\n",
            "Total Stability shoes: 416\n"
          ]
        }
      ]
    },
    {
      "cell_type": "code",
      "source": [
        "# Define the function to categorize shoes by Terrain\n",
        "\n",
        "# Apply the function to create a new column for shoe type use function is_trail\n",
        "Georgetown_shoes_clean_df['Trail'] = Georgetown_shoes_clean_df['Model'].apply(is_trail)\n",
        "\n",
        "# Display the updated DataFrame to verify the new column\n",
        "print(Georgetown_shoes_clean_df)\n",
        "\n",
        "road_count = len(Georgetown_shoes_clean_df[Georgetown_shoes_clean_df['Trail'] == False])\n",
        "trail_count = len(Georgetown_shoes_clean_df[Georgetown_shoes_clean_df['Trail'] == True])\n",
        "print(f\"Total Road shoes: {road_count}\")\n",
        "print(f\"Total Trail shoes: {trail_count}\")"
      ],
      "metadata": {
        "colab": {
          "base_uri": "https://localhost:8080/"
        },
        "id": "XhSa73OdbExf",
        "outputId": "b50c523d-01c6-4e64-add2-b4fdf9554904"
      },
      "execution_count": 12,
      "outputs": [
        {
          "output_type": "stream",
          "name": "stdout",
          "text": [
            "                                     Model    Size Width   Gender  Stable  \\\n",
            "302                 Men's ASICS GT-2000 12      11     D    Men's    True   \n",
            "968                 Men's ASICS GT-2000 12       8     D    Men's    True   \n",
            "980                 Men's ASICS GT-2000 12      10     D    Men's    True   \n",
            "1152     Women's Mizuno Wave Rider 27 Roxy      10     B  Women's   False   \n",
            "1216     Women's Mizuno Wave Rider 27 Roxy     7.5     B  Women's   False   \n",
            "...                                    ...     ...   ...      ...     ...   \n",
            "55129                Men's On Cloudmonster    12.5     D    Men's   False   \n",
            "55287                   Women's On Cloud 5     8.5     B  Women's   False   \n",
            "59665                 Women's Altra Timp 4     8.5     B  Women's   False   \n",
            "70997  Unisex OOFOS OOahh Sport Flex Slide  M11W13   NaN   Unisex   False   \n",
            "73106   Men's OOFOS Ooahh Sport Flex Slide       9     D    Men's   False   \n",
            "\n",
            "       Trail  \n",
            "302    False  \n",
            "968    False  \n",
            "980    False  \n",
            "1152   False  \n",
            "1216   False  \n",
            "...      ...  \n",
            "55129  False  \n",
            "55287  False  \n",
            "59665   True  \n",
            "70997  False  \n",
            "73106  False  \n",
            "\n",
            "[1456 rows x 6 columns]\n",
            "Total Road shoes: 1371\n",
            "Total Trail shoes: 85\n"
          ]
        }
      ]
    },
    {
      "cell_type": "code",
      "source": [
        "'''Print all unique shoe models in inventory'''\n",
        "\n",
        "unique_models = Georgetown_shoes_clean_df['Model'].unique()\n",
        "\n",
        "for title in unique_models:\n",
        "    print(title)"
      ],
      "metadata": {
        "colab": {
          "base_uri": "https://localhost:8080/"
        },
        "id": "cEuJ6RVCBctm",
        "outputId": "b0277425-0cf7-471e-afb3-caf09f4615d5"
      },
      "execution_count": 13,
      "outputs": [
        {
          "output_type": "stream",
          "name": "stdout",
          "text": [
            "Men's ASICS GT-2000 12\n",
            "Women's Mizuno Wave Rider 27 Roxy\n",
            "Women's ASICS Novablast 4\n",
            "Men's ASICS Novablast 4\n",
            "Women's New Balance FuelCell SuperComp Elite v4\n",
            "Women's HOKA ONE ONE Clifton 9\n",
            "Women's HOKA ONE ONE Bondi 8\n",
            "Women's HOKA ONE ONE Arahi 7\n",
            "Men's HOKA ONE ONE Bondi 8\n",
            "Women's New Balance Fresh Foam X 880v14\n",
            "Women's New Balance Fresh Foam X 1080v13\n",
            "Women's New Balance Fresh Foam X Vongo v6\n",
            "Women's On Cloudultra\n",
            "Men's New Balance Fresh Foam X 880v14\n",
            "Women's On Cloudgo\n",
            "Women's On Cloudsurfer\n",
            "Men's On Cloudsurfer\n",
            "Women's On Cloudflow 4\n",
            "Women's On Cloudeclipse\n",
            "Men's On Cloudflow 4\n",
            "Men's On Cloudultra 2\n",
            "Men's On Cloudeclipse\n",
            "Men's New Balance Fresh Foam X 1080v13\n",
            "Men's On Cloudgo\n",
            "Women's Altra Timp 5\n",
            "Men's Altra Rivera 4\n",
            "Women's Altra Rivera 4\n",
            "Men's Altra Timp 5\n",
            "Women's Brooks Glycerin 21\n",
            "Women's Brooks Glycerin GTS 21\n",
            "Men's Brooks Glycerin GTS 21\n",
            "Men's Brooks Glycerin 21\n",
            "Men's Saucony Guide 17\n",
            "Men's Saucony Peregrine 14\n",
            "Women's Saucony Guide 17\n",
            "Women's Saucony Peregrine 14\n",
            "Women's On Cloud 5 WP\n",
            "Women's Saucony Ride 17\n",
            "Men's HOKA ONE ONE Clifton 9\n",
            "Women's Mizuno Wave Inspire 20\n",
            "Men's Mizuno Wave Inspire 20\n",
            "Women's HOKA ONE ONE Transport\n",
            "Women's HOKA ONE ONE Mach X\n",
            "Men's HOKA ONE ONE Gaviota 5\n",
            "Men's HOKA ONE ONE Transport\n",
            "Men's HOKA ONE ONE Mach X\n",
            "Men's HOKA ONE ONE Arahi 7\n",
            "Men's Saucony Ride 17\n",
            "Men's ASICS GEL-Nimbus 26\n",
            "Women's ASICS GEL-Nimbus 26\n",
            "Men's New Balance Fresh Foam X 860v13\n",
            "Women's New Balance Fresh Foam X 860v13\n",
            "Women's New Balance FuelCell SuperComp Trainer v2\n",
            "Men's Mizuno Wave Rider 27\n",
            "Women's Mizuno Wave Rider 27\n",
            "Women's Brooks Ghost Max\n",
            "Women's ASICS GT-2000 12\n",
            "Women's Brooks Adrenaline GTS 23\n",
            "Men's Brooks Adrenaline GTS 23\n",
            "Men's Brooks Ghost Max\n",
            "Women's Nike Pegasus 40\n",
            "Women's ASICS GEL-Kayano 30\n",
            "Men's Altra Via Olympus 2\n",
            "Unisex HOKA ONE ONE Transport X\n",
            "Women's Brooks Ghost 15\n",
            "Women's Altra Via Olympus 2\n",
            "Women's New Balance Fresh Foam X More v4\n",
            "Men's New Balance Fresh Foam X More v4\n",
            "Women's On Cloudvista\n",
            "Men's New Balance Fresh Foam X Vongo v6\n",
            "Men's On Cloudvista\n",
            "Women's On Cloud 5\n",
            "Men's Brooks Ghost 15\n",
            "Men's Nike Pegasus 40\n",
            "Women's Nike InfinityRN 4\n",
            "Women's Nike Invincible 3\n",
            "Men's Nike InfinityRN 4\n",
            "Women's HOKA ONE ONE Speedgoat 5\n",
            "Women's ASICS GEL-Kayano 30 Anniversary\n",
            "AMZ-Women's Saucony Kinvara 14\n",
            "Women's Adidas Adizero Boston 12\n",
            "Women's Nike Vaporfly 3\n",
            "Unisex OOFOS OOahh Slide\n",
            "Men's AltraFWD Experience\n",
            "Women's AltraFWD Experience\n",
            "Women's New Balance Fresh Foam X Trail More v3\n",
            "Men's New Balance Fresh Foam X Trail More v3\n",
            "Women's Nike Invincible Run 3\n",
            "Men's Nike Invincible Run 3\n",
            "Men's Nike Zegama\n",
            "Women's Nike Zegama\n",
            "Men's On Cloudrunner\n",
            "Men's On Cloudstratus 3\n",
            "Women's On Cloudstratus 3\n",
            "Women's On Cloudmonster\n",
            "Women's On Cloudultra 2\n",
            "Men's On Cloudmonster\n",
            "Men's HOKA ONE ONE Rincon 3\n",
            "Men's ASICS GEL-Kayano 30 Anniversary\n",
            "Men's HOKA ONE ONE Speedgoat 5\n",
            "Men's Saucony Kinvara 14\n",
            "Women's Saucony Kinvara 14\n",
            "Men's On Cloudflyer 4\n",
            "Men's ASICS GEL-Kayano 30\n",
            "Men's HOKA ONE ONE Mach 5\n",
            "Women's Altra Paradigm 7\n",
            "Men's Altra Paradigm 7\n",
            "Women's ASICS GEL-Cumulus 25\n",
            "Women's On Cloudrunner\n",
            "Men's ASICS GEL-Cumulus 25\n",
            "Men's Altra Torin 7\n",
            "Women's On Cloud 5 Undyed\n",
            "Women's Altra Torin 7\n",
            "Men's OOFOS Ooahh Sport Flex\n",
            "Women's Altra Escalante 3\n",
            "Men's Altra Escalante 3\n",
            "Women's Nike Pegasus 40 Premium\n",
            "Women's Brooks Hyperion Max\n",
            "Men's Brooks Hyperion Max\n",
            "Men's New Balance Fresh Foam X Hierro V7\n",
            "Men's On Cloud 5\n",
            "Women's Altra Timp 4\n",
            "Unisex OOFOS OOahh Sport Flex Slide\n",
            "Men's OOFOS Ooahh Sport Flex Slide\n"
          ]
        }
      ]
    },
    {
      "cell_type": "code",
      "source": [
        "'''Print all Stable shoe models'''\n",
        "\n",
        "# Filter the DataFrame for rows where 'Stable' is True\n",
        "stable_shoes_df = Georgetown_shoes_clean_df[Georgetown_shoes_clean_df['Stable'] == True]\n",
        "\n",
        "# Get the unique values in the 'Model' column of the filtered DataFrame\n",
        "unique_stable_models = stable_shoes_df['Model'].unique()\n",
        "\n",
        "# Print the unique models\n",
        "print(\"Unique Stable Shoe Models:\")\n",
        "for model in unique_stable_models:\n",
        "    print(model)"
      ],
      "metadata": {
        "id": "OOUh3eNp8x2n",
        "colab": {
          "base_uri": "https://localhost:8080/"
        },
        "outputId": "577c3974-3382-4437-a793-3776a44c470d"
      },
      "execution_count": 14,
      "outputs": [
        {
          "output_type": "stream",
          "name": "stdout",
          "text": [
            "Unique Stable Shoe Models:\n",
            "Men's ASICS GT-2000 12\n",
            "Women's HOKA ONE ONE Arahi 7\n",
            "Women's New Balance Fresh Foam X Vongo v6\n",
            "Women's Brooks Glycerin GTS 21\n",
            "Men's Brooks Glycerin GTS 21\n",
            "Men's Saucony Guide 17\n",
            "Women's Saucony Guide 17\n",
            "Women's Mizuno Wave Inspire 20\n",
            "Men's Mizuno Wave Inspire 20\n",
            "Men's HOKA ONE ONE Gaviota 5\n",
            "Men's HOKA ONE ONE Arahi 7\n",
            "Men's New Balance Fresh Foam X 860v13\n",
            "Women's New Balance Fresh Foam X 860v13\n",
            "Women's ASICS GT-2000 12\n",
            "Women's Brooks Adrenaline GTS 23\n",
            "Men's Brooks Adrenaline GTS 23\n",
            "Women's ASICS GEL-Kayano 30\n",
            "Men's New Balance Fresh Foam X Vongo v6\n",
            "Women's ASICS GEL-Kayano 30 Anniversary\n",
            "Men's On Cloudrunner\n",
            "Men's ASICS GEL-Kayano 30 Anniversary\n",
            "Men's On Cloudflyer 4\n",
            "Men's ASICS GEL-Kayano 30\n",
            "Women's Altra Paradigm 7\n",
            "Men's Altra Paradigm 7\n",
            "Women's On Cloudrunner\n"
          ]
        }
      ]
    },
    {
      "cell_type": "code",
      "source": [
        "'''Print all Neutral shoe models'''\n",
        "\n",
        "# Filter the DataFrame for rows where 'Stable' is False\n",
        "neutral_shoes_df = Georgetown_shoes_clean_df[Georgetown_shoes_clean_df['Stable'] == False]\n",
        "\n",
        "# Get the unique values in the 'Model' column of the filtered DataFrame\n",
        "unique_neutral_models = neutral_shoes_df['Model'].unique()\n",
        "\n",
        "# Print the unique models\n",
        "print(\"Unique Neutral Shoe Models:\")\n",
        "for model in unique_neutral_models:\n",
        "    print(model)"
      ],
      "metadata": {
        "id": "cnPYT3Gf80SB",
        "colab": {
          "base_uri": "https://localhost:8080/"
        },
        "outputId": "03836da2-b82e-4539-d72c-91ab4e48805c"
      },
      "execution_count": 15,
      "outputs": [
        {
          "output_type": "stream",
          "name": "stdout",
          "text": [
            "Unique Neutral Shoe Models:\n",
            "Women's Mizuno Wave Rider 27 Roxy\n",
            "Women's ASICS Novablast 4\n",
            "Men's ASICS Novablast 4\n",
            "Women's New Balance FuelCell SuperComp Elite v4\n",
            "Women's HOKA ONE ONE Clifton 9\n",
            "Women's HOKA ONE ONE Bondi 8\n",
            "Men's HOKA ONE ONE Bondi 8\n",
            "Women's New Balance Fresh Foam X 880v14\n",
            "Women's New Balance Fresh Foam X 1080v13\n",
            "Women's On Cloudultra\n",
            "Men's New Balance Fresh Foam X 880v14\n",
            "Women's On Cloudgo\n",
            "Women's On Cloudsurfer\n",
            "Men's On Cloudsurfer\n",
            "Women's On Cloudflow 4\n",
            "Women's On Cloudeclipse\n",
            "Men's On Cloudflow 4\n",
            "Men's On Cloudultra 2\n",
            "Men's On Cloudeclipse\n",
            "Men's New Balance Fresh Foam X 1080v13\n",
            "Men's On Cloudgo\n",
            "Women's Altra Timp 5\n",
            "Men's Altra Rivera 4\n",
            "Women's Altra Rivera 4\n",
            "Men's Altra Timp 5\n",
            "Women's Brooks Glycerin 21\n",
            "Men's Brooks Glycerin 21\n",
            "Men's Saucony Peregrine 14\n",
            "Women's Saucony Peregrine 14\n",
            "Women's On Cloud 5 WP\n",
            "Women's Saucony Ride 17\n",
            "Men's HOKA ONE ONE Clifton 9\n",
            "Women's HOKA ONE ONE Transport\n",
            "Women's HOKA ONE ONE Mach X\n",
            "Men's HOKA ONE ONE Transport\n",
            "Men's HOKA ONE ONE Mach X\n",
            "Men's Saucony Ride 17\n",
            "Men's ASICS GEL-Nimbus 26\n",
            "Women's ASICS GEL-Nimbus 26\n",
            "Women's New Balance FuelCell SuperComp Trainer v2\n",
            "Men's Mizuno Wave Rider 27\n",
            "Women's Mizuno Wave Rider 27\n",
            "Women's Brooks Ghost Max\n",
            "Men's Brooks Ghost Max\n",
            "Women's Nike Pegasus 40\n",
            "Men's Altra Via Olympus 2\n",
            "Unisex HOKA ONE ONE Transport X\n",
            "Women's Brooks Ghost 15\n",
            "Women's Altra Via Olympus 2\n",
            "Women's New Balance Fresh Foam X More v4\n",
            "Men's New Balance Fresh Foam X More v4\n",
            "Women's On Cloudvista\n",
            "Men's On Cloudvista\n",
            "Women's On Cloud 5\n",
            "Men's Brooks Ghost 15\n",
            "Men's Nike Pegasus 40\n",
            "Women's Nike InfinityRN 4\n",
            "Women's Nike Invincible 3\n",
            "Men's Nike InfinityRN 4\n",
            "Women's HOKA ONE ONE Speedgoat 5\n",
            "AMZ-Women's Saucony Kinvara 14\n",
            "Women's Adidas Adizero Boston 12\n",
            "Women's Nike Vaporfly 3\n",
            "Unisex OOFOS OOahh Slide\n",
            "Men's AltraFWD Experience\n",
            "Women's AltraFWD Experience\n",
            "Women's New Balance Fresh Foam X Trail More v3\n",
            "Men's New Balance Fresh Foam X Trail More v3\n",
            "Women's Nike Invincible Run 3\n",
            "Men's Nike Invincible Run 3\n",
            "Men's Nike Zegama\n",
            "Women's Nike Zegama\n",
            "Men's On Cloudstratus 3\n",
            "Women's On Cloudstratus 3\n",
            "Women's On Cloudmonster\n",
            "Women's On Cloudultra 2\n",
            "Men's On Cloudmonster\n",
            "Men's HOKA ONE ONE Rincon 3\n",
            "Men's HOKA ONE ONE Speedgoat 5\n",
            "Men's Saucony Kinvara 14\n",
            "Women's Saucony Kinvara 14\n",
            "Men's HOKA ONE ONE Mach 5\n",
            "Women's ASICS GEL-Cumulus 25\n",
            "Men's ASICS GEL-Cumulus 25\n",
            "Men's Altra Torin 7\n",
            "Women's On Cloud 5 Undyed\n",
            "Women's Altra Torin 7\n",
            "Men's OOFOS Ooahh Sport Flex\n",
            "Women's Altra Escalante 3\n",
            "Men's Altra Escalante 3\n",
            "Women's Nike Pegasus 40 Premium\n",
            "Women's Brooks Hyperion Max\n",
            "Men's Brooks Hyperion Max\n",
            "Men's New Balance Fresh Foam X Hierro V7\n",
            "Men's On Cloud 5\n",
            "Women's Altra Timp 4\n",
            "Unisex OOFOS OOahh Sport Flex Slide\n",
            "Men's OOFOS Ooahh Sport Flex Slide\n"
          ]
        }
      ]
    },
    {
      "cell_type": "code",
      "source": [
        "'''Print all Trail shoe models'''\n",
        "\n",
        "# Filter the DataFrame for rows where 'Trail' is False\n",
        "trail_shoes_df = Georgetown_shoes_clean_df[Georgetown_shoes_clean_df['Trail'] == True]\n",
        "\n",
        "# Get the unique values in the 'Model' column of the filtered DataFrame\n",
        "unique_trail_models = trail_shoes_df['Model'].unique()\n",
        "\n",
        "# Print the unique models\n",
        "print(\"Unique Trail Shoe Models:\")\n",
        "for model in unique_trail_models:\n",
        "    print(model)"
      ],
      "metadata": {
        "id": "kVXyZDfJ82us",
        "colab": {
          "base_uri": "https://localhost:8080/"
        },
        "outputId": "524695c4-e12f-4b12-cc8c-ba68f1132888"
      },
      "execution_count": 16,
      "outputs": [
        {
          "output_type": "stream",
          "name": "stdout",
          "text": [
            "Unique Trail Shoe Models:\n",
            "Women's On Cloudultra\n",
            "Men's On Cloudultra 2\n",
            "Women's Altra Timp 5\n",
            "Men's Altra Timp 5\n",
            "Men's Saucony Peregrine 14\n",
            "Women's Saucony Peregrine 14\n",
            "Women's On Cloudvista\n",
            "Men's On Cloudvista\n",
            "Women's New Balance Fresh Foam X Trail More v3\n",
            "Men's New Balance Fresh Foam X Trail More v3\n",
            "Women's On Cloudultra 2\n",
            "Men's New Balance Fresh Foam X Hierro V7\n",
            "Women's Altra Timp 4\n"
          ]
        }
      ]
    },
    {
      "cell_type": "code",
      "source": [
        "print(Georgetown_shoes_clean_df.head(5))"
      ],
      "metadata": {
        "colab": {
          "base_uri": "https://localhost:8080/"
        },
        "id": "BVULmeVzj-Oq",
        "outputId": "bb23abdc-eb6b-4506-aa4f-7868a904ee1e"
      },
      "execution_count": 17,
      "outputs": [
        {
          "output_type": "stream",
          "name": "stdout",
          "text": [
            "                                  Model Size Width   Gender  Stable  Trail\n",
            "302              Men's ASICS GT-2000 12   11     D    Men's    True  False\n",
            "968              Men's ASICS GT-2000 12    8     D    Men's    True  False\n",
            "980              Men's ASICS GT-2000 12   10     D    Men's    True  False\n",
            "1152  Women's Mizuno Wave Rider 27 Roxy   10     B  Women's   False  False\n",
            "1216  Women's Mizuno Wave Rider 27 Roxy  7.5     B  Women's   False  False\n"
          ]
        }
      ]
    },
    {
      "cell_type": "code",
      "source": [
        "'''Women's Wide Shoes'''\n",
        "\n",
        "# Filter for wide shoes based on gender and width conditions\n",
        "womens_wide_shoes_df = Georgetown_shoes_clean_df[((Georgetown_shoes_clean_df['Gender'] == 'Women\\'s') & (Georgetown_shoes_clean_df['Width'] == 'D'))]\n",
        "\n",
        "# Print the filtered DataFrame\n",
        "print(\"Women's Wide Shoes Inventory:\")\n",
        "print(womens_wide_shoes_df)\n",
        "\n",
        "# Print the number of wide shoes for women\n",
        "num_womens_wide_shoes = len(womens_wide_shoes_df)\n",
        "print(f\"\\nNumber of Women's Wide Shoes: {num_womens_wide_shoes}\")\n",
        "\n",
        "# If you just want to print unique models of wide shoes\n",
        "unique_women_wide_models = womens_wide_shoes_df['Model'].unique()\n",
        "print(\"\\nUnique Models of Wide Shoes:\")\n",
        "for model in unique_women_wide_models:\n",
        "    print(model)\n"
      ],
      "metadata": {
        "id": "HyDcjyqq84d_",
        "colab": {
          "base_uri": "https://localhost:8080/"
        },
        "outputId": "312fd494-abaf-4b1f-92f6-dca578223369"
      },
      "execution_count": 18,
      "outputs": [
        {
          "output_type": "stream",
          "name": "stdout",
          "text": [
            "Women's Wide Shoes Inventory:\n",
            "                                         Model  Size Width   Gender  Stable  \\\n",
            "1721            Women's HOKA ONE ONE Clifton 9     7     D  Women's   False   \n",
            "3708   Women's New Balance Fresh Foam X 880v14   7.5     D  Women's   False   \n",
            "3711   Women's New Balance Fresh Foam X 880v14     8     D  Women's   False   \n",
            "3714   Women's New Balance Fresh Foam X 880v14   8.5     D  Women's   False   \n",
            "3718   Women's New Balance Fresh Foam X 880v14     9     D  Women's   False   \n",
            "...                                        ...   ...   ...      ...     ...   \n",
            "41636                  Women's Brooks Ghost 15    10     D  Women's   False   \n",
            "41637                  Women's Brooks Ghost 15  10.5     D  Women's   False   \n",
            "41638                  Women's Brooks Ghost 15    11     D  Women's   False   \n",
            "41666                  Women's Brooks Ghost 15   9.5     D  Women's   False   \n",
            "41694                  Women's Brooks Ghost 15     7     D  Women's   False   \n",
            "\n",
            "       Trail  \n",
            "1721   False  \n",
            "3708   False  \n",
            "3711   False  \n",
            "3714   False  \n",
            "3718   False  \n",
            "...      ...  \n",
            "41636  False  \n",
            "41637  False  \n",
            "41638  False  \n",
            "41666  False  \n",
            "41694  False  \n",
            "\n",
            "[92 rows x 6 columns]\n",
            "\n",
            "Number of Women's Wide Shoes: 92\n",
            "\n",
            "Unique Models of Wide Shoes:\n",
            "Women's HOKA ONE ONE Clifton 9\n",
            "Women's New Balance Fresh Foam X 880v14\n",
            "Women's Brooks Glycerin 21\n",
            "Women's HOKA ONE ONE Bondi 8\n",
            "Women's HOKA ONE ONE Arahi 7\n",
            "Women's New Balance Fresh Foam X 860v13\n",
            "AMZ-Women's Saucony Kinvara 14\n",
            "Women's ASICS GT-2000 12\n",
            "Women's ASICS GEL-Kayano 30\n",
            "Women's Brooks Adrenaline GTS 23\n",
            "Women's ASICS GEL-Cumulus 25\n",
            "Women's Brooks Ghost 15\n"
          ]
        }
      ]
    },
    {
      "cell_type": "code",
      "source": [
        "'''Men's Wide Shoes'''\n",
        "\n",
        "# Filter for wide shoes based on gender and width conditions\n",
        "mens_wide_shoes_df = Georgetown_shoes_clean_df[((Georgetown_shoes_clean_df['Gender'] == 'Men\\'s') & (Georgetown_shoes_clean_df['Width'] == '2E'))]\n",
        "\n",
        "# Print the filtered DataFrame\n",
        "print(\"Men's Wide Shoes Inventory:\")\n",
        "print(mens_wide_shoes_df)\n",
        "\n",
        "# Print the number of wide shoes for women\n",
        "num_mens_wide_shoes = len(mens_wide_shoes_df)\n",
        "print(f\"\\nNumber of Men's Wide Shoes: {num_mens_wide_shoes}\")\n",
        "\n",
        "# If you just want to print unique models of wide shoes\n",
        "unique_men_wide_models = mens_wide_shoes_df['Model'].unique()\n",
        "print(\"\\nUnique Models of Wide Shoes:\")\n",
        "for model in unique_men_wide_models:\n",
        "    print(model)\n"
      ],
      "metadata": {
        "colab": {
          "base_uri": "https://localhost:8080/"
        },
        "id": "ro7cl1YCmQWy",
        "outputId": "c8ac06db-bd29-404c-89ec-b18400be38c0"
      },
      "execution_count": 19,
      "outputs": [
        {
          "output_type": "stream",
          "name": "stdout",
          "text": [
            "Men's Wide Shoes Inventory:\n",
            "                                       Model  Size Width Gender  Stable  Trail\n",
            "4353   Men's New Balance Fresh Foam X 880v14    12    2E  Men's   False  False\n",
            "4359   Men's New Balance Fresh Foam X 880v14  12.5    2E  Men's   False  False\n",
            "4364   Men's New Balance Fresh Foam X 880v14    13    2E  Men's   False  False\n",
            "4418   Men's New Balance Fresh Foam X 880v14     9    2E  Men's   False  False\n",
            "4424   Men's New Balance Fresh Foam X 880v14   9.5    2E  Men's   False  False\n",
            "...                                      ...   ...   ...    ...     ...    ...\n",
            "42167                  Men's Brooks Ghost 15  10.5    2E  Men's   False  False\n",
            "42172                  Men's Brooks Ghost 15     9    2E  Men's   False  False\n",
            "42175                  Men's Brooks Ghost 15    11    2E  Men's   False  False\n",
            "42193                  Men's Brooks Ghost 15  12.5    2E  Men's   False  False\n",
            "42194                  Men's Brooks Ghost 15  10.5    2E  Men's   False  False\n",
            "\n",
            "[79 rows x 6 columns]\n",
            "\n",
            "Number of Men's Wide Shoes: 79\n",
            "\n",
            "Unique Models of Wide Shoes:\n",
            "Men's New Balance Fresh Foam X 880v14\n",
            "Men's Brooks Glycerin 21\n",
            "Men's HOKA ONE ONE Clifton 9\n",
            "Men's HOKA ONE ONE Bondi 8\n",
            "Men's HOKA ONE ONE Arahi 7\n",
            "Men's New Balance Fresh Foam X 860v13\n",
            "Men's Brooks Adrenaline GTS 23\n",
            "Men's ASICS GEL-Kayano 30\n",
            "Men's Brooks Ghost 15\n"
          ]
        }
      ]
    },
    {
      "cell_type": "code",
      "source": [
        "'''Total Report'''\n",
        "print(f\"\\nTotal Men's Wide Shoes: {num_mens_wide_shoes}\")\n",
        "print(f\"\\nTotal Women's Wide Shoes: {num_womens_wide_shoes}\")\n",
        "print(f\"\\nTotal Road Shoes: {road_count}\")\n",
        "print(f\"\\nTotal Trail Shoes: {trail_count}\")\n",
        "\n",
        "# Correctly filter for unisex shoes\n",
        "uni_shoes_df = Georgetown_shoes_clean_df[Georgetown_shoes_clean_df['Gender'] == 'Unisex']\n",
        "\n",
        "# # If you want to print the entire DataFrame of unisex shoes\n",
        "# print(\"Unisex Shoes Inventory:\")\n",
        "# print(uni_shoes_df)\n",
        "\n",
        "# Print the number of unisex shoes\n",
        "num_uni_shoes = len(uni_shoes_df)  # or uni_shoes_df.shape[0]\n",
        "print(f\"\\nTotal Unisex Shoes: {num_uni_shoes}\")"
      ],
      "metadata": {
        "colab": {
          "base_uri": "https://localhost:8080/"
        },
        "id": "H975VvEHo3wV",
        "outputId": "6a404ed0-90eb-4218-d556-9066e6008bfd"
      },
      "execution_count": 30,
      "outputs": [
        {
          "output_type": "stream",
          "name": "stdout",
          "text": [
            "\n",
            "Total Men's Wide Shoes: 79\n",
            "\n",
            "Total Women's Wide Shoes: 92\n",
            "\n",
            "Total Road Shoes: 1371\n",
            "\n",
            "Total Trail Shoes: 85\n",
            "\n",
            "Total Unisex Shoes: 12\n"
          ]
        }
      ]
    },
    {
      "cell_type": "code",
      "source": [
        "#Check for specific shoe\n",
        "\n",
        "# Example: Looking up a title \"Women's ASICS GEL-Kayano 30 Lite-Show\"\n",
        "# specific_title = Georgetown_shoes_clean_df[Georgetown_shoes_clean_df['Model'] == \"AMZ-Women's Saucony Kinvara 14\"]\n",
        "# specific_title = Georgetown_shoes_clean_df[Georgetown_shoes_clean_df['Model'] == \"Unisex HOKA ONE ONE Transport X\"]\n",
        "specific_title = Georgetown_shoes_clean_df[(Georgetown_shoes_clean_df['Model'] == \"Men's HOKA ONE ONE Transport\") |\n",
        "                                               (Georgetown_shoes_clean_df['Model'] == \"Women's HOKA ONE ONE Transport\")]\n",
        "\n",
        "# Print the filtered DataFrame\n",
        "print(specific_title)"
      ],
      "metadata": {
        "colab": {
          "base_uri": "https://localhost:8080/"
        },
        "id": "DU-hQr9Yk5Zx",
        "outputId": "3a76e1aa-6f97-4960-e1d4-6529afcc6173"
      },
      "execution_count": 47,
      "outputs": [
        {
          "output_type": "stream",
          "name": "stdout",
          "text": [
            "                                Model  Size Width   Gender  Stable  Trail\n",
            "6801   Women's HOKA ONE ONE Transport   8.5     B  Women's   False  False\n",
            "6819   Women's HOKA ONE ONE Transport   9.5     B  Women's   False  False\n",
            "6833   Women's HOKA ONE ONE Transport    10     B  Women's   False  False\n",
            "6868   Women's HOKA ONE ONE Transport     7     B  Women's   False  False\n",
            "6879   Women's HOKA ONE ONE Transport   7.5     B  Women's   False  False\n",
            "6901     Men's HOKA ONE ONE Transport    11     D    Men's   False  False\n",
            "6910     Men's HOKA ONE ONE Transport    12     D    Men's   False  False\n",
            "6981     Men's HOKA ONE ONE Transport     9     D    Men's   False  False\n",
            "6987     Men's HOKA ONE ONE Transport   9.5     D    Men's   False  False\n",
            "6992     Men's HOKA ONE ONE Transport    10     D    Men's   False  False\n",
            "6995     Men's HOKA ONE ONE Transport  10.5     D    Men's   False  False\n",
            "20199    Men's HOKA ONE ONE Transport  11.5     D    Men's   False  False\n",
            "22225  Women's HOKA ONE ONE Transport   8.5     B  Women's   False  False\n",
            "22228    Men's HOKA ONE ONE Transport    10     D    Men's   False  False\n",
            "23566    Men's HOKA ONE ONE Transport     9     D    Men's   False  False\n",
            "23568    Men's HOKA ONE ONE Transport   9.5     D    Men's   False  False\n",
            "23579  Women's HOKA ONE ONE Transport     8     B  Women's   False  False\n",
            "23594  Women's HOKA ONE ONE Transport   9.5     B  Women's   False  False\n",
            "29286  Women's HOKA ONE ONE Transport   7.5     B  Women's   False  False\n",
            "29843    Men's HOKA ONE ONE Transport    12     D    Men's   False  False\n",
            "29909  Women's HOKA ONE ONE Transport     7     B  Women's   False  False\n",
            "29933  Women's HOKA ONE ONE Transport  10.5     B  Women's   False  False\n"
          ]
        }
      ]
    }
  ]
}